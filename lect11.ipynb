{
 "cells": [
  {
   "cell_type": "code",
   "execution_count": 26,
   "metadata": {},
   "outputs": [
    {
     "data": {
      "text/plain": [
       "-0.4640359514348118"
      ]
     },
     "execution_count": 26,
     "metadata": {},
     "output_type": "execute_result"
    }
   ],
   "source": [
    "import numpy as np\n",
    "from numpy.random import randn\n",
    "randn()"
   ]
  },
  {
   "cell_type": "raw",
   "metadata": {},
   "source": []
  },
  {
   "cell_type": "code",
   "execution_count": null,
   "metadata": {},
   "outputs": [],
   "source": [
    "#Chained\n",
    "#---- -2---- -1 ---- 0 ---- 1 ----2\n",
    "answer=None\n",
    "x=randn()\n",
    "if x > 1:\n",
    "    answer = \"Greater than 1\"\n",
    "elif x >= -1:\n",
    "    answer = \"between -1 and 1\"\n",
    "else:\n",
    "    answer = \"less than -1\"\n",
    "print(\"Hello this will print differently depending on indentation\")\n",
    "print(\"if this doens't work at fisrt (bcause you've reopened it, ^enter the imports again)\")\n",
    "print(x)\n",
    "print(answer)\n"
   ]
  },
  {
   "cell_type": "code",
   "execution_count": null,
   "metadata": {},
   "outputs": [],
   "source": [
    "#HW 1\n",
    "#---- -2- -1 ---- 0 ---- 1 ----2\n",
    "x=randn()\n",
    "counter = counter +1\n",
    "if x > 1:\n",
    "    answer = \"Greater than 1\"\n",
    "elif x >= -1:\n",
    "    answer = \"between -1 and 1\"\n",
    "    midgroup=midgroup+1\n",
    "else:\n",
    "    answer = \"less than -1\"\n",
    "print(x)\n",
    "print(counter)\n",
    "percentmid=100*midgroup/counter\n",
    "print(percentmid)\n"
   ]
  },
  {
   "cell_type": "code",
   "execution_count": 39,
   "metadata": {},
   "outputs": [
    {
     "name": "stdout",
     "output_type": "stream",
     "text": [
      "1\n",
      "0\n"
     ]
    }
   ],
   "source": [
    "percentmid=100*midgroup/counter\n",
    "counter=1\n",
    "midgroup=0\n",
    "percentmid=1\n",
    "print(counter)\n",
    "print(midgroup)"
   ]
  },
  {
   "cell_type": "code",
   "execution_count": 40,
   "metadata": {},
   "outputs": [
    {
     "name": "stdout",
     "output_type": "stream",
     "text": [
      "1\n",
      "1\n",
      "-0.07424965221577999\n",
      "88\n",
      "68.18181818181819\n"
     ]
    }
   ],
   "source": [
    "#HW 1\n",
    "#---- -2- -1 ---- 0 ---- 1 ----\n",
    "print(percentmid)\n",
    "print(counter)\n",
    "while (percentmid < 68.1 or  percentmid > 68.3 ) :\n",
    "    x=randn()\n",
    "    counter = counter +1\n",
    " \n",
    "    if x > 1:\n",
    "        answer = \"Greater than 1\"\n",
    "    elif x >= -1:\n",
    "        answer = \"between -1 and 1\"\n",
    "        midgroup=midgroup+1\n",
    "        percentmid=100*midgroup/counter\n",
    "    else:\n",
    "        answer = \"less than -1\"\n",
    "print(x)\n",
    "print(counter)\n",
    "percentmid=100*midgroup/counter\n",
    "print(percentmid)\n"
   ]
  },
  {
   "cell_type": "code",
   "execution_count": null,
   "metadata": {},
   "outputs": [],
   "source": []
  },
  {
   "cell_type": "code",
   "execution_count": null,
   "metadata": {},
   "outputs": [],
   "source": []
  }
 ],
 "metadata": {
  "kernelspec": {
   "display_name": "Python 3",
   "language": "python",
   "name": "python3"
  },
  "language_info": {
   "codemirror_mode": {
    "name": "ipython",
    "version": 3
   },
   "file_extension": ".py",
   "mimetype": "text/x-python",
   "name": "python",
   "nbconvert_exporter": "python",
   "pygments_lexer": "ipython3",
   "version": "3.7.1"
  }
 },
 "nbformat": 4,
 "nbformat_minor": 2
}
