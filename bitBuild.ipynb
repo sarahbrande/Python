{
 "cells": [
  {
   "cell_type": "code",
   "execution_count": 89,
   "metadata": {},
   "outputs": [
    {
     "name": "stdout",
     "output_type": "stream",
     "text": [
      "bitarray('1010010100001111')\n"
     ]
    },
    {
     "ename": "NameError",
     "evalue": "name 'frombytes' is not defined",
     "output_type": "error",
     "traceback": [
      "\u001b[1;31m---------------------------------------------------------------------------\u001b[0m",
      "\u001b[1;31mNameError\u001b[0m                                 Traceback (most recent call last)",
      "\u001b[1;32m<ipython-input-89-8e64c1993e33>\u001b[0m in \u001b[0;36m<module>\u001b[1;34m\u001b[0m\n\u001b[0;32m      5\u001b[0m \u001b[0mprint\u001b[0m\u001b[1;33m(\u001b[0m\u001b[0mb\u001b[0m\u001b[1;33m)\u001b[0m\u001b[1;33m\u001b[0m\u001b[1;33m\u001b[0m\u001b[0m\n\u001b[0;32m      6\u001b[0m \u001b[0mb\u001b[0m\u001b[1;33m.\u001b[0m\u001b[0mtobytes\u001b[0m\u001b[1;33m(\u001b[0m\u001b[1;33m)\u001b[0m\u001b[1;33m\u001b[0m\u001b[1;33m\u001b[0m\u001b[0m\n\u001b[1;32m----> 7\u001b[1;33m \u001b[0mc\u001b[0m\u001b[1;33m=\u001b[0m\u001b[0mfrombytes\u001b[0m\u001b[1;33m(\u001b[0m\u001b[0mb\u001b[0m\u001b[1;33m)\u001b[0m\u001b[1;33m\u001b[0m\u001b[1;33m\u001b[0m\u001b[0m\n\u001b[0m\u001b[0;32m      8\u001b[0m \u001b[0mprint\u001b[0m\u001b[1;33m(\u001b[0m\u001b[0mc\u001b[0m\u001b[1;33m)\u001b[0m\u001b[1;33m\u001b[0m\u001b[1;33m\u001b[0m\u001b[0m\n",
      "\u001b[1;31mNameError\u001b[0m: name 'frombytes' is not defined"
     ]
    }
   ],
   "source": [
    "from bitarray import bitarray\n",
    "from numpy import append\n",
    "a=bitarray('1111000010100101')\n",
    "b=a[::-1]\n",
    "print(b)\n",
    "b.tobytes()\n",
    "c=frombytes(b)\n",
    "print(c)"
   ]
  },
  {
   "cell_type": "code",
   "execution_count": 23,
   "metadata": {},
   "outputs": [
    {
     "name": "stdout",
     "output_type": "stream",
     "text": [
      "<built-in method frombytes of bitarray object at 0x0000014992763108>\n"
     ]
    }
   ],
   "source": [
    "c=bitarray()\n",
    "print(c)"
   ]
  },
  {
   "cell_type": "code",
   "execution_count": 19,
   "metadata": {},
   "outputs": [
    {
     "name": "stdout",
     "output_type": "stream",
     "text": [
      "bitarray('10101001')\n"
     ]
    }
   ],
   "source": [
    "test=bitarray('10010101')\n",
    "test.reverse()\n",
    "print(test)"
   ]
  },
  {
   "cell_type": "code",
   "execution_count": 30,
   "metadata": {},
   "outputs": [
    {
     "name": "stdout",
     "output_type": "stream",
     "text": [
      "76543210\n",
      "1110110010101000011001000010000\n"
     ]
    }
   ],
   "source": [
    "hexa = '76543210'\n",
    "binary = bin(int(hexa, 16))[2:]\n",
    "print(hexa)\n",
    "print(binary)\n"
   ]
  },
  {
   "cell_type": "code",
   "execution_count": 69,
   "metadata": {},
   "outputs": [],
   "source": [
    "# The goal is the add/concatenate together with 2 pad bits between each slice - will be 250+ bits long.  \n",
    "#   I can't figure out how to concatenate them, some of the things I've tried below.\n",
    "s1 = '76543210'\n",
    "slice1 = bin(int(s1, 16))[2:]\n",
    "pad = bitarray('00')\n",
    "s2 = 'FFFFFFFF'\n",
    "slice2 = bin(int(s2, 16))[2:]\n",
    "s3 = '55555555'\n",
    "slice3 = bin(int(s3, 16))[2:]\n",
    "s4 = '00000000'\n",
    "slice4 = bin(int(s4, 16))[2:]\n",
    "s5 = 'AAAAAAAA'\n",
    "slice5 = bin(int(s5, 16))[2:]\n",
    "s6 = 'FFFFFFFF'\n",
    "slice6 = bin(int(s6, 16))[2:]\n",
    "s7 = '00000000'\n",
    "slice7 = bin(int(s7, 16))[2:]\n",
    "s7 = 'AAAAAAAA'\n",
    "slice7 = bin(int(s7, 16))[2:]\n",
    "sl7=bitarray(slice7)\n",
    "bit=1\n",
    "sb=bitarray(1)"
   ]
  },
  {
   "cell_type": "code",
   "execution_count": 87,
   "metadata": {
    "scrolled": true
   },
   "outputs": [
    {
     "name": "stdout",
     "output_type": "stream",
     "text": [
      "10101010101010101010101010101010\n",
      "bitarray('001')\n",
      "[bitarray('1101010101010101010101010101010101111010101010101010101010101010101011110101010101010101010101010101010111'), '10101010101010101010101010101010']\n"
     ]
    },
    {
     "ename": "TypeError",
     "evalue": "unsupported operand type(s) for <<: 'bitarray' and 'int'",
     "output_type": "error",
     "traceback": [
      "\u001b[1;31m---------------------------------------------------------------------------\u001b[0m",
      "\u001b[1;31mTypeError\u001b[0m                                 Traceback (most recent call last)",
      "\u001b[1;32m<ipython-input-87-138a4ec7b871>\u001b[0m in \u001b[0;36m<module>\u001b[1;34m\u001b[0m\n\u001b[0;32m      5\u001b[0m \u001b[0mprint\u001b[0m\u001b[1;33m(\u001b[0m\u001b[0mf2\u001b[0m\u001b[1;33m)\u001b[0m\u001b[1;33m\u001b[0m\u001b[1;33m\u001b[0m\u001b[0m\n\u001b[0;32m      6\u001b[0m \u001b[0mc\u001b[0m\u001b[1;33m=\u001b[0m\u001b[0msb\u001b[0m\u001b[1;33m,\u001b[0m\u001b[0mslice7\u001b[0m\u001b[1;33m\u001b[0m\u001b[1;33m\u001b[0m\u001b[0m\n\u001b[1;32m----> 7\u001b[1;33m \u001b[0mc\u001b[0m\u001b[1;33m=\u001b[0m\u001b[0msb\u001b[0m\u001b[1;33m<<\u001b[0m\u001b[0mlen\u001b[0m\u001b[1;33m(\u001b[0m\u001b[0mc\u001b[0m\u001b[1;33m)\u001b[0m\u001b[1;33m\u001b[0m\u001b[1;33m\u001b[0m\u001b[0m\n\u001b[0m\u001b[0;32m      8\u001b[0m \u001b[0mprint\u001b[0m\u001b[1;33m(\u001b[0m\u001b[0mc\u001b[0m\u001b[1;33m)\u001b[0m\u001b[1;33m\u001b[0m\u001b[1;33m\u001b[0m\u001b[0m\n",
      "\u001b[1;31mTypeError\u001b[0m: unsupported operand type(s) for <<: 'bitarray' and 'int'"
     ]
    }
   ],
   "source": [
    "print(slice7)\n",
    "f1=bitarray([0,0,1])\n",
    "print(f1)\n",
    "f2=[sb,slice7]\n",
    "print(f2)\n",
    "c=sb,slice7\n",
    "c=sb<<len(c)\n",
    "print(c)\n"
   ]
  },
  {
   "cell_type": "code",
   "execution_count": 75,
   "metadata": {},
   "outputs": [
    {
     "name": "stdout",
     "output_type": "stream",
     "text": [
      "bitarray('10101010101010101010101010101010111')\n",
      "(bitarray('1'), bitarray('10101010101010101010101010101010111'))\n"
     ]
    }
   ],
   "source": [
    "print(sl7)\n",
    "x=\n",
    "print(x)"
   ]
  },
  {
   "cell_type": "code",
   "execution_count": 86,
   "metadata": {},
   "outputs": [
    {
     "name": "stdout",
     "output_type": "stream",
     "text": [
      "bitarray('01')\n",
      "[bitarray('01'), 1]\n",
      "How do I concatenate this?\n"
     ]
    }
   ],
   "source": [
    "x=sl7[3:5]\n",
    "print(x)\n",
    "y=[x,1] \n",
    "print(y)\n",
    "print('How do I concatenate this?')"
   ]
  }
 ],
 "metadata": {
  "kernelspec": {
   "display_name": "Python 3",
   "language": "python",
   "name": "python3"
  },
  "language_info": {
   "codemirror_mode": {
    "name": "ipython",
    "version": 3
   },
   "file_extension": ".py",
   "mimetype": "text/x-python",
   "name": "python",
   "nbconvert_exporter": "python",
   "pygments_lexer": "ipython3",
   "version": "3.7.1"
  }
 },
 "nbformat": 4,
 "nbformat_minor": 2
}
